{
  "nbformat": 4,
  "nbformat_minor": 0,
  "metadata": {
    "colab": {
      "name": "cora_example.ipynb",
      "provenance": [],
      "authorship_tag": "ABX9TyMhkjRTCjEmhwv4wYTYTAUK",
      "include_colab_link": true
    },
    "kernelspec": {
      "name": "python3",
      "display_name": "Python 3"
    },
    "language_info": {
      "name": "python"
    }
  },
  "cells": [
    {
      "cell_type": "markdown",
      "metadata": {
        "id": "view-in-github",
        "colab_type": "text"
      },
      "source": [
        "<a href=\"https://colab.research.google.com/github/Huntac/gnn_example/blob/main/cora_walkthrough/cora_example.ipynb\" target=\"_parent\"><img src=\"https://colab.research.google.com/assets/colab-badge.svg\" alt=\"Open In Colab\"/></a>"
      ]
    },
    {
      "cell_type": "markdown",
      "metadata": {
        "id": "MPwLs7_y1b5G"
      },
      "source": [
        "# GNN Walk Through \n",
        "\n",
        "Light introduction to basic graph neural networks.\n",
        "\n",
        "Applied to a classification problem based on the Cora citation dataset.\n",
        "\n",
        "The goal is to classify each paper into 1 of 7 categories based on a given  paper's features (Bag of Words), and improve upon that performance by utilizing a graph representation of the dataset.\n",
        "\n",
        "In a graph representation each node represents a paper. Two nodes are connected by an (undirected) edge if either paper cites the other.\n"
      ]
    },
    {
      "cell_type": "code",
      "metadata": {
        "id": "4eoeNq6pSbt8"
      },
      "source": [
        "%%capture\n",
        "!pip install numpy\n",
        "!pip install tensorflow\n",
        "!pip install spektral\n",
        "!pip install matplotlib\n",
        "\n",
        "%matplotlib inline  \n",
        "import matplotlib.pyplot as plt\n",
        "import numpy as np\n",
        "import spektral\n",
        "import tensorflow as tf"
      ],
      "execution_count": 12,
      "outputs": []
    },
    {
      "cell_type": "code",
      "metadata": {
        "id": "d4veoJmmTTrM"
      },
      "source": [
        "%%capture\n",
        "# Load Dataset and extract contents\n",
        "data = spektral.datasets.Cora()\n",
        "\n",
        "adj = data[0].a\n",
        "features = data[0].x\n",
        "labels = data[0].y"
      ],
      "execution_count": 14,
      "outputs": []
    },
    {
      "cell_type": "code",
      "metadata": {
        "id": "EZhzk_Jl2gT6",
        "outputId": "ed4150b2-3145-499c-cba2-8a6375e5ffa3",
        "colab": {
          "base_uri": "https://localhost:8080/"
        }
      },
      "source": [
        "# Add identity matrix to adjacency matrix so that each node is connected to itself. \n",
        "# Otherwise the node's own features won't be used to categorize the node!\n",
        "adj = adj.todense() + np.eye(adj.shape[0])\n",
        "\n",
        "adj = adj.astype('float32')\n",
        "features = features.astype('float32')\n",
        "\n",
        "# Validate that features, adjacency matrix and labels are the correct shape\n",
        "print(features.shape)\n",
        "print(adj.shape)\n",
        "print(labels.shape)\n"
      ],
      "execution_count": 15,
      "outputs": [
        {
          "output_type": "stream",
          "name": "stdout",
          "text": [
            "(2708, 1433)\n",
            "(2708, 2708)\n",
            "(2708, 7)\n"
          ]
        }
      ]
    },
    {
      "cell_type": "code",
      "metadata": {
        "id": "iudVjHh3370W",
        "outputId": "0f4f9671-b12e-4356-f60d-37fc9bced287",
        "colab": {
          "base_uri": "https://localhost:8080/"
        }
      },
      "source": [
        "# Unpack training, validation, and test masks\n",
        "#   These masks are used during loss calculation so that the network is fit  \n",
        "#   based only on the loss surface of only the training nodes \n",
        "train_mask = data.mask_tr\n",
        "val_mask = data.mask_va\n",
        "test_mask = data.mask_te\n",
        "\n",
        "# Validate that maskes are the correct length\n",
        "print(np.sum(train_mask))\n",
        "print(np.sum(val_mask))\n",
        "print(np.sum(test_mask))"
      ],
      "execution_count": 16,
      "outputs": [
        {
          "output_type": "stream",
          "name": "stdout",
          "text": [
            "140\n",
            "500\n",
            "1000\n"
          ]
        }
      ]
    },
    {
      "cell_type": "code",
      "metadata": {
        "id": "pfhWZx9zWmQT"
      },
      "source": [
        "# Adjust cross entropy and accuracy functions to work with masks\n",
        "def masked_softmax_cross_entropy(logits, labels, mask):\n",
        "  loss = tf.nn.softmax_cross_entropy_with_logits(logits = logits, labels = labels)\n",
        "  mask = tf.cast(mask, dtype=tf.float32)\n",
        "  mask /= tf.reduce_mean(mask)\n",
        "  loss *= mask\n",
        "  return tf.reduce_mean(loss)\n",
        "\n",
        "def masked_accuracy(logits, labels, mask):\n",
        "  correct_prediction = tf.equal(tf.argmax(logits, 1), tf.argmax(labels, 1))\n",
        "  accuracy_all = tf.cast(correct_prediction, tf.float32)\n",
        "  mask = tf.cast(mask, dtype = tf.float32)\n",
        "  mask /= tf.reduce_mean(mask)\n",
        "  accuracy_all *= mask\n",
        "  return tf.reduce_mean(accuracy_all)"
      ],
      "execution_count": 17,
      "outputs": []
    },
    {
      "cell_type": "markdown",
      "metadata": {
        "id": "oR5tL38O5YzY"
      },
      "source": [
        "### Define Graph Neural Network Layer\n",
        "There are three steps for each layer of the graph neural network definied below:  \n",
        "1. Apply some pointwise transformation to the feature matrix (fts)\n",
        "2. Aggregate the transformed features with respected to connected nodes via the adjacency matrix using matrix multiplication\n",
        "3. Apply some activation function"
      ]
    },
    {
      "cell_type": "code",
      "metadata": {
        "id": "kcCHHdU2WwYp"
      },
      "source": [
        "def gnn(fts, adj, transform, activation):\n",
        "  seq_fts = transform(fts)\n",
        "  ret_fts = tf.matmul(adj, seq_fts)\n",
        "  return activation(ret_fts)\n"
      ],
      "execution_count": 18,
      "outputs": []
    },
    {
      "cell_type": "code",
      "metadata": {
        "id": "JGtrSTfB9Gs8"
      },
      "source": [
        "# Define plotting function for visualizing fitting process\n",
        "def loss_over_epoch(train_loss, val_loss):\n",
        "  '''\n",
        "    Plot training and validation loss over fitting process\n",
        "  '''\n",
        "  plt.figure()\n",
        "  plt.plot(train_loss)\n",
        "  plt.plot(val_loss)\n",
        "  plt.title('Model Loss Over Epochs')\n",
        "  plt.ylabel('Loss (softmax cross-entropy)')\n",
        "  plt.xlabel('Epoch')\n",
        "  plt.legend(['Training', 'Validation'], loc = 'upper right')\n",
        "  plt.show()\n"
      ],
      "execution_count": 19,
      "outputs": []
    },
    {
      "cell_type": "markdown",
      "metadata": {
        "id": "zJU5xdob9t0V"
      },
      "source": [
        "### Define NN for Cora problem\n",
        "\n",
        "Define a two layer GNN to classify each paper.  \n",
        "- Calculate cross entropy loss of training nodes\n",
        "- Calculate gradient of weights based on training node loss\n",
        "- Apply gradient to network weights\n",
        "- Calculate accuracy on training nodes and validation nodes"
      ]
    },
    {
      "cell_type": "code",
      "metadata": {
        "id": "_zK7Vn7Cf36r"
      },
      "source": [
        "def train_cora(fts, adj, gnn_fn, units, epochs, lr):\n",
        "  lyr_1 = tf.keras.layers.Dense(units)\n",
        "  lyr_2 = tf.keras.layers.Dense(7)\n",
        "\n",
        "  def cora_gnn(fts, adj):\n",
        "    hidden = gnn_fn(fts, adj, lyr_1, tf.nn.relu)\n",
        "    logits = gnn_fn(hidden, adj, lyr_2, tf.identity)\n",
        "    return logits\n",
        "\n",
        "  optimizer = tf.keras.optimizers.Adam(learning_rate = lr)\n",
        "\n",
        "  best_accuracy = 0.0\n",
        "\n",
        "  train_loss = np.zeros([1,0], 'float32')\n",
        "  val_loss = np.zeros([1,0], 'float32')\n",
        "\n",
        "  for ep in range(epochs + 1):\n",
        "    with tf.GradientTape() as t:\n",
        "      logits = cora_gnn(fts, adj)\n",
        "      loss = masked_softmax_cross_entropy(logits, labels, train_mask)\n",
        "\n",
        "    variables = t.watched_variables()\n",
        "    grads = t.gradient(loss, variables)\n",
        "    optimizer.apply_gradients(zip(grads, variables))\n",
        "\n",
        "    logits = cora_gnn(fts,adj)\n",
        "    train_accuracy = masked_accuracy(logits, labels, train_mask)\n",
        "    val_accuracy = masked_accuracy(logits, labels, val_mask)\n",
        "    test_accuracy = masked_accuracy(logits, labels, test_mask)\n",
        "\n",
        "    v_loss = masked_softmax_cross_entropy(logits, labels, val_mask)\n",
        "    \n",
        "    train_loss = np.append(train_loss, loss.numpy())\n",
        "    val_loss = np.append(val_loss, v_loss.numpy())\n",
        "\n",
        "    if val_accuracy > best_accuracy:\n",
        "      best_accuracy = val_accuracy\n",
        "      # save model and omit test statistics for real scenario\n",
        "      # print statistics for convenience\n",
        "      print('Epoch', ep, '| Training loss:', loss.numpy(), '|Train accuracy: ', train_accuracy.numpy(), '| Val accuracy:',\n",
        "            val_accuracy.numpy(), '| Test accuracy:', test_accuracy.numpy())\n",
        "  \n",
        "  # Finally plot loss of each epoch\n",
        "  loss_over_epoch(train_loss, val_loss)"
      ],
      "execution_count": 65,
      "outputs": []
    },
    {
      "cell_type": "code",
      "metadata": {
        "colab": {
          "base_uri": "https://localhost:8080/",
          "height": 567
        },
        "id": "z84j5AaIiB_6",
        "outputId": "081c5390-033b-4cf1-d434-fc9a5981cf5e"
      },
      "source": [
        "# Plot shows that the fitting process is some what jumpy in initial epochs and \n",
        "#  that over time the validation loss becomes worse\n",
        "#  (One issue here is that features aren't scaled)\n",
        "train_cora(features, adj, gnn, 32, 200, 0.01)"
      ],
      "execution_count": 66,
      "outputs": [
        {
          "output_type": "stream",
          "name": "stdout",
          "text": [
            "Epoch 0 | Training loss: 5.0503507 |Train accuracy:  0.42142856 | Val accuracy: 0.26999998 | Test accuracy: 0.283\n",
            "Epoch 1 | Training loss: 3.147451 |Train accuracy:  0.5 | Val accuracy: 0.488 | Test accuracy: 0.50600004\n",
            "Epoch 2 | Training loss: 3.2567 |Train accuracy:  0.6214286 | Val accuracy: 0.568 | Test accuracy: 0.59\n",
            "Epoch 3 | Training loss: 2.3771741 |Train accuracy:  0.75714284 | Val accuracy: 0.622 | Test accuracy: 0.658\n",
            "Epoch 6 | Training loss: 1.2226515 |Train accuracy:  0.8142857 | Val accuracy: 0.648 | Test accuracy: 0.66\n",
            "Epoch 9 | Training loss: 1.2459002 |Train accuracy:  0.82857144 | Val accuracy: 0.654 | Test accuracy: 0.66700006\n",
            "Epoch 10 | Training loss: 0.5185464 |Train accuracy:  0.8428572 | Val accuracy: 0.66 | Test accuracy: 0.66499996\n",
            "Epoch 15 | Training loss: 0.38367727 |Train accuracy:  0.9357143 | Val accuracy: 0.662 | Test accuracy: 0.672\n",
            "Epoch 16 | Training loss: 0.30750576 |Train accuracy:  0.9642857 | Val accuracy: 0.66800004 | Test accuracy: 0.688\n",
            "Epoch 17 | Training loss: 0.23695488 |Train accuracy:  0.9785714 | Val accuracy: 0.684 | Test accuracy: 0.7\n",
            "Epoch 18 | Training loss: 0.21040595 |Train accuracy:  0.9785714 | Val accuracy: 0.698 | Test accuracy: 0.71199995\n",
            "Epoch 44 | Training loss: 0.0144181205 |Train accuracy:  1.0 | Val accuracy: 0.702 | Test accuracy: 0.716\n",
            "Epoch 45 | Training loss: 0.013296015 |Train accuracy:  1.0 | Val accuracy: 0.70399994 | Test accuracy: 0.719\n",
            "Epoch 46 | Training loss: 0.012307698 |Train accuracy:  1.0 | Val accuracy: 0.706 | Test accuracy: 0.721\n",
            "Epoch 48 | Training loss: 0.01057127 |Train accuracy:  1.0 | Val accuracy: 0.71199995 | Test accuracy: 0.72599995\n",
            "Epoch 67 | Training loss: 0.0039128237 |Train accuracy:  1.0 | Val accuracy: 0.714 | Test accuracy: 0.73999995\n"
          ]
        },
        {
          "output_type": "display_data",
          "data": {
            "image/png": "[encoded data removed]",
            "text/plain": [
              "<Figure size 432x288 with 1 Axes>"
            ]
          },
          "metadata": {
            "needs_background": "light"
          }
        }
      ]
    },
    {
      "cell_type": "code",
      "metadata": {
        "colab": {
          "base_uri": "https://localhost:8080/",
          "height": 601
        },
        "id": "Zblc2jB5imnJ",
        "outputId": "9bf8dd6e-fdec-4d13-de21-dec03e06ac00"
      },
      "source": [
        "# Replace adjacenvy matrix with identity matrix\n",
        "# This is equivalent to a perceptron classifier\n",
        "# Since the graph structure is quite helpful in this case, this model severly over fits\n",
        "# Also under-performs in terms of accuracy\n",
        "train_cora(features, tf.eye(adj.shape[0]), gnn, 32, 200, 0.01)"
      ],
      "execution_count": 67,
      "outputs": [
        {
          "output_type": "stream",
          "name": "stdout",
          "text": [
            "Epoch 0 | Training loss: 1.9701551 |Train accuracy:  0.7785715 | Val accuracy: 0.238 | Test accuracy: 0.276\n",
            "Epoch 1 | Training loss: 1.6945965 |Train accuracy:  0.9571429 | Val accuracy: 0.31599998 | Test accuracy: 0.36099997\n",
            "Epoch 2 | Training loss: 1.4631413 |Train accuracy:  0.99285716 | Val accuracy: 0.38200003 | Test accuracy: 0.415\n",
            "Epoch 3 | Training loss: 1.2197294 |Train accuracy:  0.99285716 | Val accuracy: 0.438 | Test accuracy: 0.44\n",
            "Epoch 4 | Training loss: 0.97525036 |Train accuracy:  0.99285716 | Val accuracy: 0.45199996 | Test accuracy: 0.45899996\n",
            "Epoch 5 | Training loss: 0.7518221 |Train accuracy:  0.99285716 | Val accuracy: 0.47 | Test accuracy: 0.469\n",
            "Epoch 6 | Training loss: 0.56372505 |Train accuracy:  0.99285716 | Val accuracy: 0.47599998 | Test accuracy: 0.484\n",
            "Epoch 7 | Training loss: 0.41519052 |Train accuracy:  1.0 | Val accuracy: 0.48399997 | Test accuracy: 0.5\n",
            "Epoch 8 | Training loss: 0.30373585 |Train accuracy:  1.0 | Val accuracy: 0.494 | Test accuracy: 0.511\n",
            "Epoch 9 | Training loss: 0.22389115 |Train accuracy:  1.0 | Val accuracy: 0.5 | Test accuracy: 0.518\n",
            "Epoch 10 | Training loss: 0.16797477 |Train accuracy:  1.0 | Val accuracy: 0.51199996 | Test accuracy: 0.527\n",
            "Epoch 11 | Training loss: 0.1285717 |Train accuracy:  1.0 | Val accuracy: 0.52 | Test accuracy: 0.534\n",
            "Epoch 12 | Training loss: 0.10020082 |Train accuracy:  1.0 | Val accuracy: 0.53 | Test accuracy: 0.53900003\n",
            "Epoch 13 | Training loss: 0.07911357 |Train accuracy:  1.0 | Val accuracy: 0.536 | Test accuracy: 0.54200006\n",
            "Epoch 14 | Training loss: 0.06308755 |Train accuracy:  1.0 | Val accuracy: 0.548 | Test accuracy: 0.54899997\n",
            "Epoch 15 | Training loss: 0.050680153 |Train accuracy:  1.0 | Val accuracy: 0.54999995 | Test accuracy: 0.54399997\n",
            "Epoch 16 | Training loss: 0.040936437 |Train accuracy:  1.0 | Val accuracy: 0.556 | Test accuracy: 0.54300004\n",
            "Epoch 17 | Training loss: 0.033233557 |Train accuracy:  1.0 | Val accuracy: 0.564 | Test accuracy: 0.546\n"
          ]
        },
        {
          "output_type": "display_data",
          "data": {
            "image/png": "[encoded data removed]",
            "text/plain": [
              "<Figure size 432x288 with 1 Axes>"
            ]
          },
          "metadata": {
            "needs_background": "light"
          }
        }
      ]
    },
    {
      "cell_type": "code",
      "metadata": {
        "colab": {
          "base_uri": "https://localhost:8080/",
          "height": 448
        },
        "id": "okdFuKZ_iwD7",
        "outputId": "5c6dea7a-a225-4863-c2c6-354c63b5b196"
      },
      "source": [
        "# Divide adjacency matrix by degree matrix (mean-pooling) to help regularize features\n",
        "# (helps control size of features and results in a more stable fit)\n",
        "deg = tf.reduce_sum(adj, axis = -1)\n",
        "train_cora(features, adj/deg, gnn, 32, 200, 0.01)"
      ],
      "execution_count": 68,
      "outputs": [
        {
          "output_type": "stream",
          "name": "stdout",
          "text": [
            "Epoch 0 | Training loss: 1.9481387 |Train accuracy:  0.63571423 | Val accuracy: 0.274 | Test accuracy: 0.326\n",
            "Epoch 1 | Training loss: 1.7421453 |Train accuracy:  0.75714284 | Val accuracy: 0.39999998 | Test accuracy: 0.45499995\n",
            "Epoch 2 | Training loss: 1.521834 |Train accuracy:  0.92857146 | Val accuracy: 0.576 | Test accuracy: 0.606\n",
            "Epoch 3 | Training loss: 1.2810816 |Train accuracy:  0.9571429 | Val accuracy: 0.702 | Test accuracy: 0.738\n",
            "Epoch 4 | Training loss: 1.0488352 |Train accuracy:  0.9857144 | Val accuracy: 0.76399994 | Test accuracy: 0.7809999\n",
            "Epoch 5 | Training loss: 0.84311026 |Train accuracy:  0.99285716 | Val accuracy: 0.78800005 | Test accuracy: 0.79899985\n",
            "Epoch 6 | Training loss: 0.67055357 |Train accuracy:  0.99285716 | Val accuracy: 0.79599994 | Test accuracy: 0.80499977\n",
            "Epoch 7 | Training loss: 0.52976215 |Train accuracy:  0.99285716 | Val accuracy: 0.79999995 | Test accuracy: 0.8069998\n",
            "Epoch 9 | Training loss: 0.32400355 |Train accuracy:  0.99285716 | Val accuracy: 0.802 | Test accuracy: 0.8029998\n"
          ]
        },
        {
          "output_type": "display_data",
          "data": {
            "image/png": "[encoded data removed]",
            "text/plain": [
              "<Figure size 432x288 with 1 Axes>"
            ]
          },
          "metadata": {
            "needs_background": "light"
          }
        }
      ]
    },
    {
      "cell_type": "code",
      "metadata": {
        "colab": {
          "base_uri": "https://localhost:8080/",
          "height": 465
        },
        "id": "5n8Fl5IgjL7v",
        "outputId": "578ad33f-f9a2-464e-bb52-80e2379cc215"
      },
      "source": [
        "# Thomas Kipf regularization (similar to mean pooling)\n",
        "norm_deg = tf.linalg.diag(1.0/tf.sqrt(deg))\n",
        "norm_adj = tf.matmul(norm_deg, tf.matmul(adj, norm_deg))\n",
        "train_cora(features, norm_adj, gnn, 32, 200, 0.01)"
      ],
      "execution_count": 69,
      "outputs": [
        {
          "output_type": "stream",
          "name": "stdout",
          "text": [
            "Epoch 0 | Training loss: 1.9529613 |Train accuracy:  0.77857137 | Val accuracy: 0.482 | Test accuracy: 0.49199998\n",
            "Epoch 1 | Training loss: 1.7740258 |Train accuracy:  0.85 | Val accuracy: 0.55399996 | Test accuracy: 0.555\n",
            "Epoch 2 | Training loss: 1.5609983 |Train accuracy:  0.89285713 | Val accuracy: 0.584 | Test accuracy: 0.5749999\n",
            "Epoch 3 | Training loss: 1.3253117 |Train accuracy:  0.9214286 | Val accuracy: 0.606 | Test accuracy: 0.602\n",
            "Epoch 4 | Training loss: 1.1044271 |Train accuracy:  0.9357143 | Val accuracy: 0.644 | Test accuracy: 0.642\n",
            "Epoch 5 | Training loss: 0.9021135 |Train accuracy:  0.9571429 | Val accuracy: 0.704 | Test accuracy: 0.693\n",
            "Epoch 6 | Training loss: 0.7217886 |Train accuracy:  0.97857153 | Val accuracy: 0.74 | Test accuracy: 0.737\n",
            "Epoch 7 | Training loss: 0.56759197 |Train accuracy:  0.97857153 | Val accuracy: 0.76199996 | Test accuracy: 0.76599985\n",
            "Epoch 8 | Training loss: 0.4398041 |Train accuracy:  0.9857144 | Val accuracy: 0.78 | Test accuracy: 0.7809999\n",
            "Epoch 9 | Training loss: 0.33748323 |Train accuracy:  0.99285716 | Val accuracy: 0.78800005 | Test accuracy: 0.79999995\n"
          ]
        },
        {
          "output_type": "display_data",
          "data": {
            "image/png": "[encoded data removed]",
            "text/plain": [
              "<Figure size 432x288 with 1 Axes>"
            ]
          },
          "metadata": {
            "needs_background": "light"
          }
        }
      ]
    }
  ]
}