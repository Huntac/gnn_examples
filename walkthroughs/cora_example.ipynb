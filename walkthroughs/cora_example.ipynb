{
  "nbformat": 4,
  "nbformat_minor": 0,
  "metadata": {
    "colab": {
      "name": "cora_example.ipynb",
      "provenance": [],
      "authorship_tag": "ABX9TyNL4lJ8uSNETAKwP0OU32cY",
      "include_colab_link": true
    },
    "kernelspec": {
      "name": "python3",
      "display_name": "Python 3"
    },
    "language_info": {
      "name": "python"
    }
  },
  "cells": [
    {
      "cell_type": "markdown",
      "metadata": {
        "id": "view-in-github",
        "colab_type": "text"
      },
      "source": [
        "<a href=\"https://colab.research.google.com/github/Huntac/gnn_example/blob/main/walkthroughs/cora_example.ipynb\" target=\"_parent\"><img src=\"https://colab.research.google.com/assets/colab-badge.svg\" alt=\"Open In Colab\"/></a>"
      ]
    },
    {
      "cell_type": "code",
      "metadata": {
        "colab": {
          "base_uri": "https://localhost:8080/"
        },
        "id": "4eoeNq6pSbt8",
        "outputId": "7e71a83f-9217-4e56-dd70-c7ee075b6bad"
      },
      "source": [
        "!pip install numpy\n",
        "!pip install tensorflow\n",
        "!pip install spektral\n",
        "\n",
        "import numpy as np\n",
        "import tensorflow as tf\n",
        "import spektral"
      ],
      "execution_count": 2,
      "outputs": [
        {
          "output_type": "stream",
          "text": [
            "Requirement already satisfied: numpy in /usr/local/lib/python3.7/dist-packages (1.19.5)\n",
            "Requirement already satisfied: tensorflow in /usr/local/lib/python3.7/dist-packages (2.6.0)\n",
            "Requirement already satisfied: typing-extensions~=3.7.4 in /usr/local/lib/python3.7/dist-packages (from tensorflow) (3.7.4.3)\n",
            "Requirement already satisfied: google-pasta~=0.2 in /usr/local/lib/python3.7/dist-packages (from tensorflow) (0.2.0)\n",
            "Requirement already satisfied: tensorflow-estimator~=2.6 in /usr/local/lib/python3.7/dist-packages (from tensorflow) (2.6.0)\n",
            "Requirement already satisfied: keras-preprocessing~=1.1.2 in /usr/local/lib/python3.7/dist-packages (from tensorflow) (1.1.2)\n",
            "Requirement already satisfied: grpcio<2.0,>=1.37.0 in /usr/local/lib/python3.7/dist-packages (from tensorflow) (1.39.0)\n",
            "Requirement already satisfied: h5py~=3.1.0 in /usr/local/lib/python3.7/dist-packages (from tensorflow) (3.1.0)\n",
            "Requirement already satisfied: termcolor~=1.1.0 in /usr/local/lib/python3.7/dist-packages (from tensorflow) (1.1.0)\n",
            "Requirement already satisfied: numpy~=1.19.2 in /usr/local/lib/python3.7/dist-packages (from tensorflow) (1.19.5)\n",
            "Requirement already satisfied: absl-py~=0.10 in /usr/local/lib/python3.7/dist-packages (from tensorflow) (0.12.0)\n",
            "Requirement already satisfied: opt-einsum~=3.3.0 in /usr/local/lib/python3.7/dist-packages (from tensorflow) (3.3.0)\n",
            "Requirement already satisfied: wrapt~=1.12.1 in /usr/local/lib/python3.7/dist-packages (from tensorflow) (1.12.1)\n",
            "Requirement already satisfied: keras~=2.6 in /usr/local/lib/python3.7/dist-packages (from tensorflow) (2.6.0)\n",
            "Requirement already satisfied: wheel~=0.35 in /usr/local/lib/python3.7/dist-packages (from tensorflow) (0.37.0)\n",
            "Requirement already satisfied: flatbuffers~=1.12.0 in /usr/local/lib/python3.7/dist-packages (from tensorflow) (1.12)\n",
            "Requirement already satisfied: clang~=5.0 in /usr/local/lib/python3.7/dist-packages (from tensorflow) (5.0)\n",
            "Requirement already satisfied: six~=1.15.0 in /usr/local/lib/python3.7/dist-packages (from tensorflow) (1.15.0)\n",
            "Requirement already satisfied: protobuf>=3.9.2 in /usr/local/lib/python3.7/dist-packages (from tensorflow) (3.17.3)\n",
            "Requirement already satisfied: tensorboard~=2.6 in /usr/local/lib/python3.7/dist-packages (from tensorflow) (2.6.0)\n",
            "Requirement already satisfied: gast==0.4.0 in /usr/local/lib/python3.7/dist-packages (from tensorflow) (0.4.0)\n",
            "Requirement already satisfied: astunparse~=1.6.3 in /usr/local/lib/python3.7/dist-packages (from tensorflow) (1.6.3)\n",
            "Requirement already satisfied: cached-property in /usr/local/lib/python3.7/dist-packages (from h5py~=3.1.0->tensorflow) (1.5.2)\n",
            "Requirement already satisfied: setuptools>=41.0.0 in /usr/local/lib/python3.7/dist-packages (from tensorboard~=2.6->tensorflow) (57.4.0)\n",
            "Requirement already satisfied: markdown>=2.6.8 in /usr/local/lib/python3.7/dist-packages (from tensorboard~=2.6->tensorflow) (3.3.4)\n",
            "Requirement already satisfied: requests<3,>=2.21.0 in /usr/local/lib/python3.7/dist-packages (from tensorboard~=2.6->tensorflow) (2.23.0)\n",
            "Requirement already satisfied: werkzeug>=0.11.15 in /usr/local/lib/python3.7/dist-packages (from tensorboard~=2.6->tensorflow) (1.0.1)\n",
            "Requirement already satisfied: tensorboard-plugin-wit>=1.6.0 in /usr/local/lib/python3.7/dist-packages (from tensorboard~=2.6->tensorflow) (1.8.0)\n",
            "Requirement already satisfied: google-auth-oauthlib<0.5,>=0.4.1 in /usr/local/lib/python3.7/dist-packages (from tensorboard~=2.6->tensorflow) (0.4.5)\n",
            "Requirement already satisfied: google-auth<2,>=1.6.3 in /usr/local/lib/python3.7/dist-packages (from tensorboard~=2.6->tensorflow) (1.34.0)\n",
            "Requirement already satisfied: tensorboard-data-server<0.7.0,>=0.6.0 in /usr/local/lib/python3.7/dist-packages (from tensorboard~=2.6->tensorflow) (0.6.1)\n",
            "Requirement already satisfied: cachetools<5.0,>=2.0.0 in /usr/local/lib/python3.7/dist-packages (from google-auth<2,>=1.6.3->tensorboard~=2.6->tensorflow) (4.2.2)\n",
            "Requirement already satisfied: rsa<5,>=3.1.4 in /usr/local/lib/python3.7/dist-packages (from google-auth<2,>=1.6.3->tensorboard~=2.6->tensorflow) (4.7.2)\n",
            "Requirement already satisfied: pyasn1-modules>=0.2.1 in /usr/local/lib/python3.7/dist-packages (from google-auth<2,>=1.6.3->tensorboard~=2.6->tensorflow) (0.2.8)\n",
            "Requirement already satisfied: requests-oauthlib>=0.7.0 in /usr/local/lib/python3.7/dist-packages (from google-auth-oauthlib<0.5,>=0.4.1->tensorboard~=2.6->tensorflow) (1.3.0)\n",
            "Requirement already satisfied: importlib-metadata in /usr/local/lib/python3.7/dist-packages (from markdown>=2.6.8->tensorboard~=2.6->tensorflow) (4.6.4)\n",
            "Requirement already satisfied: pyasn1<0.5.0,>=0.4.6 in /usr/local/lib/python3.7/dist-packages (from pyasn1-modules>=0.2.1->google-auth<2,>=1.6.3->tensorboard~=2.6->tensorflow) (0.4.8)\n",
            "Requirement already satisfied: chardet<4,>=3.0.2 in /usr/local/lib/python3.7/dist-packages (from requests<3,>=2.21.0->tensorboard~=2.6->tensorflow) (3.0.4)\n",
            "Requirement already satisfied: certifi>=2017.4.17 in /usr/local/lib/python3.7/dist-packages (from requests<3,>=2.21.0->tensorboard~=2.6->tensorflow) (2021.5.30)\n",
            "Requirement already satisfied: idna<3,>=2.5 in /usr/local/lib/python3.7/dist-packages (from requests<3,>=2.21.0->tensorboard~=2.6->tensorflow) (2.10)\n",
            "Requirement already satisfied: urllib3!=1.25.0,!=1.25.1,<1.26,>=1.21.1 in /usr/local/lib/python3.7/dist-packages (from requests<3,>=2.21.0->tensorboard~=2.6->tensorflow) (1.24.3)\n",
            "Requirement already satisfied: oauthlib>=3.0.0 in /usr/local/lib/python3.7/dist-packages (from requests-oauthlib>=0.7.0->google-auth-oauthlib<0.5,>=0.4.1->tensorboard~=2.6->tensorflow) (3.1.1)\n",
            "Requirement already satisfied: zipp>=0.5 in /usr/local/lib/python3.7/dist-packages (from importlib-metadata->markdown>=2.6.8->tensorboard~=2.6->tensorflow) (3.5.0)\n",
            "Requirement already satisfied: spektral in /usr/local/lib/python3.7/dist-packages (1.0.8)\n",
            "Requirement already satisfied: pandas in /usr/local/lib/python3.7/dist-packages (from spektral) (1.1.5)\n",
            "Requirement already satisfied: tensorflow>=2.1.0 in /usr/local/lib/python3.7/dist-packages (from spektral) (2.6.0)\n",
            "Requirement already satisfied: lxml in /usr/local/lib/python3.7/dist-packages (from spektral) (4.2.6)\n",
            "Requirement already satisfied: networkx in /usr/local/lib/python3.7/dist-packages (from spektral) (2.6.2)\n",
            "Requirement already satisfied: scipy in /usr/local/lib/python3.7/dist-packages (from spektral) (1.4.1)\n",
            "Requirement already satisfied: joblib in /usr/local/lib/python3.7/dist-packages (from spektral) (1.0.1)\n",
            "Requirement already satisfied: scikit-learn in /usr/local/lib/python3.7/dist-packages (from spektral) (0.22.2.post1)\n",
            "Requirement already satisfied: numpy<1.20 in /usr/local/lib/python3.7/dist-packages (from spektral) (1.19.5)\n",
            "Requirement already satisfied: requests in /usr/local/lib/python3.7/dist-packages (from spektral) (2.23.0)\n",
            "Requirement already satisfied: tqdm in /usr/local/lib/python3.7/dist-packages (from spektral) (4.62.0)\n",
            "Requirement already satisfied: astunparse~=1.6.3 in /usr/local/lib/python3.7/dist-packages (from tensorflow>=2.1.0->spektral) (1.6.3)\n",
            "Requirement already satisfied: six~=1.15.0 in /usr/local/lib/python3.7/dist-packages (from tensorflow>=2.1.0->spektral) (1.15.0)\n",
            "Requirement already satisfied: tensorflow-estimator~=2.6 in /usr/local/lib/python3.7/dist-packages (from tensorflow>=2.1.0->spektral) (2.6.0)\n",
            "Requirement already satisfied: opt-einsum~=3.3.0 in /usr/local/lib/python3.7/dist-packages (from tensorflow>=2.1.0->spektral) (3.3.0)\n",
            "Requirement already satisfied: google-pasta~=0.2 in /usr/local/lib/python3.7/dist-packages (from tensorflow>=2.1.0->spektral) (0.2.0)\n",
            "Requirement already satisfied: termcolor~=1.1.0 in /usr/local/lib/python3.7/dist-packages (from tensorflow>=2.1.0->spektral) (1.1.0)\n",
            "Requirement already satisfied: clang~=5.0 in /usr/local/lib/python3.7/dist-packages (from tensorflow>=2.1.0->spektral) (5.0)\n",
            "Requirement already satisfied: flatbuffers~=1.12.0 in /usr/local/lib/python3.7/dist-packages (from tensorflow>=2.1.0->spektral) (1.12)\n",
            "Requirement already satisfied: wheel~=0.35 in /usr/local/lib/python3.7/dist-packages (from tensorflow>=2.1.0->spektral) (0.37.0)\n",
            "Requirement already satisfied: grpcio<2.0,>=1.37.0 in /usr/local/lib/python3.7/dist-packages (from tensorflow>=2.1.0->spektral) (1.39.0)\n",
            "Requirement already satisfied: typing-extensions~=3.7.4 in /usr/local/lib/python3.7/dist-packages (from tensorflow>=2.1.0->spektral) (3.7.4.3)\n",
            "Requirement already satisfied: tensorboard~=2.6 in /usr/local/lib/python3.7/dist-packages (from tensorflow>=2.1.0->spektral) (2.6.0)\n",
            "Requirement already satisfied: keras~=2.6 in /usr/local/lib/python3.7/dist-packages (from tensorflow>=2.1.0->spektral) (2.6.0)\n",
            "Requirement already satisfied: protobuf>=3.9.2 in /usr/local/lib/python3.7/dist-packages (from tensorflow>=2.1.0->spektral) (3.17.3)\n",
            "Requirement already satisfied: gast==0.4.0 in /usr/local/lib/python3.7/dist-packages (from tensorflow>=2.1.0->spektral) (0.4.0)\n",
            "Requirement already satisfied: wrapt~=1.12.1 in /usr/local/lib/python3.7/dist-packages (from tensorflow>=2.1.0->spektral) (1.12.1)\n",
            "Requirement already satisfied: absl-py~=0.10 in /usr/local/lib/python3.7/dist-packages (from tensorflow>=2.1.0->spektral) (0.12.0)\n",
            "Requirement already satisfied: h5py~=3.1.0 in /usr/local/lib/python3.7/dist-packages (from tensorflow>=2.1.0->spektral) (3.1.0)\n",
            "Requirement already satisfied: keras-preprocessing~=1.1.2 in /usr/local/lib/python3.7/dist-packages (from tensorflow>=2.1.0->spektral) (1.1.2)\n",
            "Requirement already satisfied: cached-property in /usr/local/lib/python3.7/dist-packages (from h5py~=3.1.0->tensorflow>=2.1.0->spektral) (1.5.2)\n",
            "Requirement already satisfied: google-auth-oauthlib<0.5,>=0.4.1 in /usr/local/lib/python3.7/dist-packages (from tensorboard~=2.6->tensorflow>=2.1.0->spektral) (0.4.5)\n",
            "Requirement already satisfied: setuptools>=41.0.0 in /usr/local/lib/python3.7/dist-packages (from tensorboard~=2.6->tensorflow>=2.1.0->spektral) (57.4.0)\n",
            "Requirement already satisfied: tensorboard-plugin-wit>=1.6.0 in /usr/local/lib/python3.7/dist-packages (from tensorboard~=2.6->tensorflow>=2.1.0->spektral) (1.8.0)\n",
            "Requirement already satisfied: google-auth<2,>=1.6.3 in /usr/local/lib/python3.7/dist-packages (from tensorboard~=2.6->tensorflow>=2.1.0->spektral) (1.34.0)\n",
            "Requirement already satisfied: markdown>=2.6.8 in /usr/local/lib/python3.7/dist-packages (from tensorboard~=2.6->tensorflow>=2.1.0->spektral) (3.3.4)\n",
            "Requirement already satisfied: werkzeug>=0.11.15 in /usr/local/lib/python3.7/dist-packages (from tensorboard~=2.6->tensorflow>=2.1.0->spektral) (1.0.1)\n",
            "Requirement already satisfied: tensorboard-data-server<0.7.0,>=0.6.0 in /usr/local/lib/python3.7/dist-packages (from tensorboard~=2.6->tensorflow>=2.1.0->spektral) (0.6.1)\n",
            "Requirement already satisfied: cachetools<5.0,>=2.0.0 in /usr/local/lib/python3.7/dist-packages (from google-auth<2,>=1.6.3->tensorboard~=2.6->tensorflow>=2.1.0->spektral) (4.2.2)\n",
            "Requirement already satisfied: rsa<5,>=3.1.4 in /usr/local/lib/python3.7/dist-packages (from google-auth<2,>=1.6.3->tensorboard~=2.6->tensorflow>=2.1.0->spektral) (4.7.2)\n",
            "Requirement already satisfied: pyasn1-modules>=0.2.1 in /usr/local/lib/python3.7/dist-packages (from google-auth<2,>=1.6.3->tensorboard~=2.6->tensorflow>=2.1.0->spektral) (0.2.8)\n",
            "Requirement already satisfied: requests-oauthlib>=0.7.0 in /usr/local/lib/python3.7/dist-packages (from google-auth-oauthlib<0.5,>=0.4.1->tensorboard~=2.6->tensorflow>=2.1.0->spektral) (1.3.0)\n",
            "Requirement already satisfied: importlib-metadata in /usr/local/lib/python3.7/dist-packages (from markdown>=2.6.8->tensorboard~=2.6->tensorflow>=2.1.0->spektral) (4.6.4)\n",
            "Requirement already satisfied: pyasn1<0.5.0,>=0.4.6 in /usr/local/lib/python3.7/dist-packages (from pyasn1-modules>=0.2.1->google-auth<2,>=1.6.3->tensorboard~=2.6->tensorflow>=2.1.0->spektral) (0.4.8)\n",
            "Requirement already satisfied: certifi>=2017.4.17 in /usr/local/lib/python3.7/dist-packages (from requests->spektral) (2021.5.30)\n",
            "Requirement already satisfied: idna<3,>=2.5 in /usr/local/lib/python3.7/dist-packages (from requests->spektral) (2.10)\n",
            "Requirement already satisfied: urllib3!=1.25.0,!=1.25.1,<1.26,>=1.21.1 in /usr/local/lib/python3.7/dist-packages (from requests->spektral) (1.24.3)\n",
            "Requirement already satisfied: chardet<4,>=3.0.2 in /usr/local/lib/python3.7/dist-packages (from requests->spektral) (3.0.4)\n",
            "Requirement already satisfied: oauthlib>=3.0.0 in /usr/local/lib/python3.7/dist-packages (from requests-oauthlib>=0.7.0->google-auth-oauthlib<0.5,>=0.4.1->tensorboard~=2.6->tensorflow>=2.1.0->spektral) (3.1.1)\n",
            "Requirement already satisfied: zipp>=0.5 in /usr/local/lib/python3.7/dist-packages (from importlib-metadata->markdown>=2.6.8->tensorboard~=2.6->tensorflow>=2.1.0->spektral) (3.5.0)\n",
            "Requirement already satisfied: pytz>=2017.2 in /usr/local/lib/python3.7/dist-packages (from pandas->spektral) (2018.9)\n",
            "Requirement already satisfied: python-dateutil>=2.7.3 in /usr/local/lib/python3.7/dist-packages (from pandas->spektral) (2.8.2)\n"
          ],
          "name": "stdout"
        }
      ]
    },
    {
      "cell_type": "code",
      "metadata": {
        "colab": {
          "base_uri": "https://localhost:8080/"
        },
        "id": "d4veoJmmTTrM",
        "outputId": "75d5828c-200e-4385-87ba-9135a1f1511b"
      },
      "source": [
        "data = spektral.datasets.Cora()\n",
        "\n",
        "adj = data[0].a\n",
        "features = data[0].x\n",
        "labels = data[0].y\n",
        "\n",
        "adj = adj.todense() + np.eye(adj.shape[0])\n",
        "\n",
        "adj = adj.astype('float32')\n",
        "features = features.astype('float32')\n",
        "\n",
        "print(features.shape)\n",
        "print(adj.shape)\n",
        "print(labels.shape)\n",
        "\n",
        "train_mask = data.mask_tr\n",
        "val_mask = data.mask_va\n",
        "test_mask = data.mask_te\n",
        "\n",
        "print(np.sum(train_mask))\n",
        "print(np.sum(val_mask))\n",
        "print(np.sum(test_mask))"
      ],
      "execution_count": 26,
      "outputs": [
        {
          "output_type": "stream",
          "text": [
            "(2708, 1433)\n",
            "(2708, 2708)\n",
            "(2708, 7)\n",
            "140\n",
            "500\n",
            "1000\n"
          ],
          "name": "stdout"
        },
        {
          "output_type": "stream",
          "text": [
            "/usr/local/lib/python3.7/dist-packages/scipy/sparse/_index.py:126: SparseEfficiencyWarning: Changing the sparsity structure of a csr_matrix is expensive. lil_matrix is more efficient.\n",
            "  self._set_arrayXarray(i, j, x)\n"
          ],
          "name": "stderr"
        }
      ]
    },
    {
      "cell_type": "code",
      "metadata": {
        "id": "pfhWZx9zWmQT"
      },
      "source": [
        "def masked_softmax_cross_entropy(logits, labels, mask):\n",
        "  loss = tf.nn.softmax_cross_entropy_with_logits(logits = logits, labels = labels)\n",
        "  mask = tf.cast(mask, dtype=tf.float32)\n",
        "  mask /= tf.reduce_mean(mask)\n",
        "  loss *= mask\n",
        "  return tf.reduce_mean(loss)\n",
        "\n",
        "def masked_accuracy(logits, labels, mask):\n",
        "  correct_prediction = tf.equal(tf.argmax(logits, 1), tf.argmax(labels, 1))\n",
        "  accuracy_all = tf.cast(correct_prediction, tf.float32)\n",
        "  mask = tf.cast(mask, dtype = tf.float32)\n",
        "  mask /= tf.reduce_mean(mask)\n",
        "  accuracy_all *= mask\n",
        "  return tf.reduce_mean(accuracy_all)"
      ],
      "execution_count": 36,
      "outputs": []
    },
    {
      "cell_type": "code",
      "metadata": {
        "id": "kcCHHdU2WwYp"
      },
      "source": [
        "def gnn(fts, adj, transform, activation):\n",
        "  seq_fts = transform(fts)\n",
        "  ret_fts = tf.matmul(adj, seq_fts)\n",
        "  return activation(ret_fts)\n"
      ],
      "execution_count": 34,
      "outputs": []
    },
    {
      "cell_type": "code",
      "metadata": {
        "id": "_zK7Vn7Cf36r"
      },
      "source": [
        "def train_cora(fts, adj, gnn_fn, units, epochs, lr):\n",
        "  lyr_1 = tf.keras.layers.Dense(units)\n",
        "  lyr_2 = tf.keras.layers.Dense(7)\n",
        "\n",
        "  def cora_gnn(fts, adj):\n",
        "    hidden = gnn_fn(fts, adj, lyr_1, tf.nn.relu)\n",
        "    logits = gnn_fn(hidden, adj, lyr_2, tf.identity)\n",
        "    return logits\n",
        "\n",
        "  optimizer = tf.keras.optimizers.Adam(learning_rate = lr)\n",
        "\n",
        "  best_accuracy = 0.0\n",
        "  for ep in range(epochs + 1):\n",
        "    with tf.GradientTape() as t:\n",
        "      logits = cora_gnn(fts, adj)\n",
        "      loss = masked_softmax_cross_entropy(logits, labels, train_mask)\n",
        "\n",
        "    variables = t.watched_variables()\n",
        "    grads = t.gradient(loss, variables)\n",
        "    optimizer.apply_gradients(zip(grads, variables))\n",
        "\n",
        "    logits = cora_gnn(fts,adj)\n",
        "    val_accuracy = masked_accuracy(logits, labels, val_mask)\n",
        "    test_accuracy = masked_accuracy(logits, labels, test_mask)\n",
        "\n",
        "    if val_accuracy > best_accuracy:\n",
        "      best_accuracy = val_accuracy\n",
        "      # save model in for real scenario\n",
        "      # print statistics for convenience\n",
        "      print('Epoch', ep, '| Training loss:', loss.numpy(), '| Val accuracy:',\n",
        "            val_accuracy.numpy(), '| Test accuracy:', test_accuracy.numpy())"
      ],
      "execution_count": 32,
      "outputs": []
    },
    {
      "cell_type": "code",
      "metadata": {
        "colab": {
          "base_uri": "https://localhost:8080/"
        },
        "id": "z84j5AaIiB_6",
        "outputId": "e2dc0fc4-afd6-4969-ce7c-64219c498971"
      },
      "source": [
        "train_cora(features, adj, gnn, 32, 200, 0.01)"
      ],
      "execution_count": 37,
      "outputs": [
        {
          "output_type": "stream",
          "text": [
            "Epoch 0 | Training loss: 4.685637 | Val accuracy: 0.18199998 | Test accuracy: 0.164\n",
            "Epoch 1 | Training loss: 7.08173 | Val accuracy: 0.48599997 | Test accuracy: 0.524\n",
            "Epoch 3 | Training loss: 3.4098866 | Val accuracy: 0.56 | Test accuracy: 0.57899994\n",
            "Epoch 4 | Training loss: 2.613023 | Val accuracy: 0.60800004 | Test accuracy: 0.63500005\n",
            "Epoch 5 | Training loss: 1.3992269 | Val accuracy: 0.662 | Test accuracy: 0.705\n",
            "Epoch 10 | Training loss: 0.26780266 | Val accuracy: 0.67 | Test accuracy: 0.678\n",
            "Epoch 12 | Training loss: 0.18319902 | Val accuracy: 0.684 | Test accuracy: 0.686\n",
            "Epoch 19 | Training loss: 0.06608303 | Val accuracy: 0.686 | Test accuracy: 0.703\n",
            "Epoch 23 | Training loss: 0.0349244 | Val accuracy: 0.688 | Test accuracy: 0.71199995\n",
            "Epoch 24 | Training loss: 0.031801715 | Val accuracy: 0.692 | Test accuracy: 0.714\n",
            "Epoch 28 | Training loss: 0.022176035 | Val accuracy: 0.69399995 | Test accuracy: 0.715\n",
            "Epoch 29 | Training loss: 0.020347217 | Val accuracy: 0.698 | Test accuracy: 0.718\n",
            "Epoch 31 | Training loss: 0.017266663 | Val accuracy: 0.7 | Test accuracy: 0.721\n",
            "Epoch 33 | Training loss: 0.014773405 | Val accuracy: 0.702 | Test accuracy: 0.722\n",
            "Epoch 34 | Training loss: 0.013700564 | Val accuracy: 0.70600003 | Test accuracy: 0.72\n",
            "Epoch 35 | Training loss: 0.012729504 | Val accuracy: 0.70799994 | Test accuracy: 0.72\n",
            "Epoch 36 | Training loss: 0.01185199 | Val accuracy: 0.708 | Test accuracy: 0.721\n",
            "Epoch 37 | Training loss: 0.011059517 | Val accuracy: 0.71000004 | Test accuracy: 0.722\n",
            "Epoch 39 | Training loss: 0.009688738 | Val accuracy: 0.71199995 | Test accuracy: 0.723\n",
            "Epoch 43 | Training loss: 0.007597574 | Val accuracy: 0.714 | Test accuracy: 0.72400004\n",
            "Epoch 44 | Training loss: 0.007170637 | Val accuracy: 0.716 | Test accuracy: 0.72400004\n",
            "Epoch 50 | Training loss: 0.005250811 | Val accuracy: 0.72 | Test accuracy: 0.72400004\n",
            "Epoch 96 | Training loss: 0.0016220155 | Val accuracy: 0.722 | Test accuracy: 0.726\n",
            "Epoch 106 | Training loss: 0.0014028033 | Val accuracy: 0.72400004 | Test accuracy: 0.727\n"
          ],
          "name": "stdout"
        }
      ]
    },
    {
      "cell_type": "code",
      "metadata": {
        "colab": {
          "base_uri": "https://localhost:8080/"
        },
        "id": "Zblc2jB5imnJ",
        "outputId": "0422a742-cc75-43a3-93cb-ab13d0284e01"
      },
      "source": [
        "train_cora(features, tf.eye(adj.shape[0]), gnn, 32, 200, 0.01)"
      ],
      "execution_count": 38,
      "outputs": [
        {
          "output_type": "stream",
          "text": [
            "Epoch 0 | Training loss: 1.9528365 | Val accuracy: 0.24199998 | Test accuracy: 0.25100002\n",
            "Epoch 1 | Training loss: 1.6834337 | Val accuracy: 0.31999996 | Test accuracy: 0.329\n",
            "Epoch 2 | Training loss: 1.4503951 | Val accuracy: 0.35999998 | Test accuracy: 0.371\n",
            "Epoch 3 | Training loss: 1.2081176 | Val accuracy: 0.41199997 | Test accuracy: 0.411\n",
            "Epoch 4 | Training loss: 0.96334016 | Val accuracy: 0.438 | Test accuracy: 0.439\n",
            "Epoch 5 | Training loss: 0.7344038 | Val accuracy: 0.466 | Test accuracy: 0.47\n",
            "Epoch 6 | Training loss: 0.5389805 | Val accuracy: 0.494 | Test accuracy: 0.48199993\n",
            "Epoch 7 | Training loss: 0.38659588 | Val accuracy: 0.516 | Test accuracy: 0.5\n",
            "Epoch 8 | Training loss: 0.27534932 | Val accuracy: 0.53999996 | Test accuracy: 0.509\n",
            "Epoch 10 | Training loss: 0.14479953 | Val accuracy: 0.546 | Test accuracy: 0.523\n",
            "Epoch 11 | Training loss: 0.10853559 | Val accuracy: 0.552 | Test accuracy: 0.527\n",
            "Epoch 12 | Training loss: 0.08304457 | Val accuracy: 0.554 | Test accuracy: 0.528\n",
            "Epoch 13 | Training loss: 0.06456915 | Val accuracy: 0.55600005 | Test accuracy: 0.534\n",
            "Epoch 15 | Training loss: 0.040321097 | Val accuracy: 0.55799997 | Test accuracy: 0.525\n"
          ],
          "name": "stdout"
        }
      ]
    },
    {
      "cell_type": "code",
      "metadata": {
        "colab": {
          "base_uri": "https://localhost:8080/"
        },
        "id": "okdFuKZ_iwD7",
        "outputId": "5cac86be-143f-4b1f-9e65-58f687060a3b"
      },
      "source": [
        "deg = tf.reduce_sum(adj, axis = -1)\n",
        "train_cora(features, adj/deg, gnn, 32, 200, 0.01)"
      ],
      "execution_count": 39,
      "outputs": [
        {
          "output_type": "stream",
          "text": [
            "Epoch 0 | Training loss: 1.9440632 | Val accuracy: 0.566 | Test accuracy: 0.596\n",
            "Epoch 1 | Training loss: 1.7503469 | Val accuracy: 0.67399997 | Test accuracy: 0.66\n",
            "Epoch 3 | Training loss: 1.3000072 | Val accuracy: 0.70399994 | Test accuracy: 0.713\n",
            "Epoch 4 | Training loss: 1.0744447 | Val accuracy: 0.73200005 | Test accuracy: 0.747\n",
            "Epoch 5 | Training loss: 0.8721776 | Val accuracy: 0.7559999 | Test accuracy: 0.7709999\n",
            "Epoch 6 | Training loss: 0.7028123 | Val accuracy: 0.77199996 | Test accuracy: 0.7879999\n",
            "Epoch 7 | Training loss: 0.56225026 | Val accuracy: 0.78 | Test accuracy: 0.7969999\n",
            "Epoch 8 | Training loss: 0.44639075 | Val accuracy: 0.786 | Test accuracy: 0.7999999\n",
            "Epoch 9 | Training loss: 0.35206503 | Val accuracy: 0.78999996 | Test accuracy: 0.7999999\n"
          ],
          "name": "stdout"
        }
      ]
    },
    {
      "cell_type": "code",
      "metadata": {
        "colab": {
          "base_uri": "https://localhost:8080/"
        },
        "id": "5n8Fl5IgjL7v",
        "outputId": "fcb3c62a-d479-4107-cd7f-772aa67feca2"
      },
      "source": [
        "norm_deg = tf.linalg.diag(1.0/tf.sqrt(deg))\n",
        "norm_adj = tf.matmul(norm_deg, tf.matmul(adj, norm_deg))\n",
        "train_cora(features, norm_adj, gnn, 32, 200, 0.01)"
      ],
      "execution_count": 40,
      "outputs": [
        {
          "output_type": "stream",
          "text": [
            "Epoch 0 | Training loss: 1.9531704 | Val accuracy: 0.48799998 | Test accuracy: 0.5\n",
            "Epoch 1 | Training loss: 1.7892886 | Val accuracy: 0.546 | Test accuracy: 0.56700003\n",
            "Epoch 3 | Training loss: 1.3902137 | Val accuracy: 0.56799996 | Test accuracy: 0.594\n",
            "Epoch 4 | Training loss: 1.196192 | Val accuracy: 0.672 | Test accuracy: 0.699\n",
            "Epoch 5 | Training loss: 1.0080124 | Val accuracy: 0.75 | Test accuracy: 0.76699984\n",
            "Epoch 6 | Training loss: 0.8337019 | Val accuracy: 0.78 | Test accuracy: 0.79099995\n",
            "Epoch 9 | Training loss: 0.42928982 | Val accuracy: 0.786 | Test accuracy: 0.79099995\n",
            "Epoch 11 | Training loss: 0.26089212 | Val accuracy: 0.78800005 | Test accuracy: 0.78999996\n",
            "Epoch 16 | Training loss: 0.07079962 | Val accuracy: 0.78999996 | Test accuracy: 0.79799986\n"
          ],
          "name": "stdout"
        }
      ]
    }
  ]
}